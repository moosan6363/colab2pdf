{
  "nbformat": 4,
  "nbformat_minor": 0,
  "metadata": {
    "colab": {
      "provenance": []
    },
    "kernelspec": {
      "name": "python3",
      "display_name": "Python 3"
    },
    "language_info": {
      "name": "python"
    }
  },
  "cells": [
    {
      "cell_type": "code",
      "source": [
        "file_dir = '/content/drive/My\\ Drive/Colab\\ Notebooks'\n",
        "file_name = 'your_file_name.ipynb'"
      ],
      "metadata": {
        "id": "0H7KCyc1v_n9"
      },
      "execution_count": 4,
      "outputs": []
    },
    {
      "cell_type": "code",
      "execution_count": null,
      "metadata": {
        "id": "knBDdIfnh_xU"
      },
      "outputs": [],
      "source": [
        "from google.colab import drive\n",
        "drive.mount('/content/drive')\n",
        "\n",
        "!apt install texlive-lang-japanese texlive-xetex pandoc\n",
        "!pip install pypandoc\n",
        "\n",
        "!sed -i 's/11pt/xelatex,ja=standard/g' /usr/local/share/jupyter/nbconvert/templates/latex/index.tex.j2\n",
        "!sed -i 's/{article}/{bxjsarticle}/g' /usr/local/share/jupyter/nbconvert/templates/latex/index.tex.j2"
      ]
    },
    {
      "cell_type": "code",
      "source": [
        "%cd {file_dir}\n",
        "!jupyter nbconvert --to PDF {file_name}"
      ],
      "metadata": {
        "id": "TNwjiqARk-N0"
      },
      "execution_count": null,
      "outputs": []
    }
  ]
}